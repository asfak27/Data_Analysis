{
 "cells": [
  {
   "cell_type": "markdown",
   "id": "2b6200fd",
   "metadata": {},
   "source": [
    "imorting "
   ]
  },
  {
   "cell_type": "code",
   "execution_count": null,
   "id": "c3d76d8e",
   "metadata": {},
   "outputs": [],
   "source": [
    "import pandas as pd\n",
    "\n",
    "csv1=pd.read_csv(\"C:\\\\jupyter_work\\\\Main-Dataset.csv\",nrows=15)\n",
    "\n",
    "df=pd.DataFrame(csv1)\n",
    "df"
   ]
  },
  {
   "cell_type": "code",
   "execution_count": null,
   "id": "4d014881",
   "metadata": {},
   "outputs": [],
   "source": [
    "df[\"Actual link\"]=df[\"created_at\"]\n",
    "df"
   ]
  },
  {
   "cell_type": "code",
   "execution_count": null,
   "id": "ab14e370",
   "metadata": {},
   "outputs": [],
   "source": [
    "import pandas as pd\n",
    "import re\n",
    "import requests\n",
    "import time\n",
    "import concurrent.futures\n",
    "def get(link):\n",
    "   \n",
    "        response = requests.head(link, allow_redirects=True)\n",
    "        actual_link = response.url\n",
    "        return actual_link\n",
    "    \n",
    "def extract_links(text):\n",
    "    url_pattern = r'https?://\\S+'\n",
    "    links = re.findall(url_pattern, text)\n",
    "    return links\n",
    "\n",
    "\n",
    "csv3=pd.read_csv(\"C:\\\\jupyter_work\\\\Main-Dataset.csv\",usecols=[5],nrows=10)\n",
    "\n",
    "#csv3\n",
    "\n",
    "#print(csv3)\n",
    "\n",
    "column_values = csv3.iloc[:, 0].tolist()\n",
    "\n",
    "cnt=0;\n",
    "for text in column_values:\n",
    "    #print(cnt ,\"=\", text)\n",
    "    cnt+=1\n",
    "arr=[]\n",
    "arr1=[]\n",
    "print()\n",
    "c=-1\n",
    "for text in column_values:\n",
    "    #time.sleep(2)\n",
    "    links = extract_links(text)\n",
    "    c+=1\n",
    "    if len(links)==0:\n",
    "       # print(\"links didn't found in index no :\",c)\n",
    "        arr.append(\"NULL\")\n",
    "        arr1.append(\"NULL\")\n",
    "       # print()\n",
    "        continue\n",
    "   # print(\"Successfully Found in index no :\",c)\n",
    "   # arr1.append(links)\n",
    "    for link in links:\n",
    "       # print(\"Extracted Links:\",link)\n",
    "        actual_link = get(link)\n",
    "        if actual_link:\n",
    "            #print(\"Actual link:\", actual_link)\n",
    "            arr1.append(links)\n",
    "            arr.append(actual_link)\n",
    "    #print()        \n",
    "\n",
    "#print(arr) \n",
    "#df = pd.DataFrame({\"Matching\": matching_values})\n",
    "\n",
    "\n",
    "\n",
    "\n",
    "#for i in arr:\n",
    " #   print(i)\n",
    "    \n",
    "    \n",
    "csv1=pd.read_csv(\"C:\\\\jupyter_work\\\\Main-Dataset.csv\",nrows=10)\n",
    "\n",
    "df=pd.DataFrame(csv1)\n",
    "\n",
    "\n",
    "df[\"Extract_links\"]=arr1\n",
    "df[\"Actual link\"]=arr\n",
    "\n",
    "\n",
    "\n",
    "#df = pd.DataFrame({\"Actual link\": arr})\n",
    "\n",
    "df    "
   ]
  },
  {
   "cell_type": "code",
   "execution_count": null,
   "id": "97905067",
   "metadata": {},
   "outputs": [],
   "source": [
    "#df.to_csv(\"C:\\\\jupyter_work\\\\Main-Dataset-New2.csv\")\n"
   ]
  },
  {
   "cell_type": "code",
   "execution_count": null,
   "id": "d0a0fc37",
   "metadata": {},
   "outputs": [],
   "source": []
  }
 ],
 "metadata": {
  "kernelspec": {
   "display_name": "Python 3 (ipykernel)",
   "language": "python",
   "name": "python3"
  },
  "language_info": {
   "codemirror_mode": {
    "name": "ipython",
    "version": 3
   },
   "file_extension": ".py",
   "mimetype": "text/x-python",
   "name": "python",
   "nbconvert_exporter": "python",
   "pygments_lexer": "ipython3",
   "version": "3.11.5"
  }
 },
 "nbformat": 4,
 "nbformat_minor": 5
}
